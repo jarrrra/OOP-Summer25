{
 "cells": [
  {
   "cell_type": "markdown",
   "id": "5e2ed2bd",
   "metadata": {},
   "source": [
    "# Task1"
   ]
  },
  {
   "cell_type": "code",
   "execution_count": 6,
   "id": "d7369307",
   "metadata": {
    "vscode": {
     "languageId": "ruby"
    }
   },
   "outputs": [],
   "source": [
    "class Animal:\n",
    "    def __init__(self):\n",
    "        print(\"Constructor print\")"
   ]
  },
  {
   "cell_type": "code",
   "execution_count": 5,
   "id": "dc49ab56",
   "metadata": {},
   "outputs": [
    {
     "name": "stdout",
     "output_type": "stream",
     "text": [
      "Constructor print\n",
      "Constructor print\n",
      "Constructor print\n"
     ]
    }
   ],
   "source": [
    "animal1 = Animal()\n",
    "animal2 = Animal()\n",
    "animal3 = Animal()"
   ]
  },
  {
   "cell_type": "markdown",
   "id": "e4c232ab",
   "metadata": {},
   "source": [
    "# Task2"
   ]
  },
  {
   "cell_type": "code",
   "execution_count": 1,
   "id": "91bb6de8",
   "metadata": {},
   "outputs": [],
   "source": [
    "class Car:\n",
    "    def __init__(self, brand, model):\n",
    "        self.brand = brand\n",
    "        self.model = model"
   ]
  },
  {
   "cell_type": "code",
   "execution_count": null,
   "id": "a88289dc",
   "metadata": {},
   "outputs": [],
   "source": [
    "car1 = Car ('BMW', 'BMW X')\n",
    "car2 = Car('Jaguar', 'Jaguar F-Type')\n",
    "car3 = Car('Nissan', 'ARIYA')"
   ]
  },
  {
   "cell_type": "markdown",
   "id": "8edd8b1e",
   "metadata": {},
   "source": [
    "## Task for extra point - complex constructor"
   ]
  },
  {
   "cell_type": "code",
   "execution_count": 1,
   "id": "495307f5",
   "metadata": {},
   "outputs": [],
   "source": [
    "class House:\n",
    "    def __init__(self, location, floors, furnitures):\n",
    "        self.location = location\n",
    "        self.floors = floors\n",
    "        self.furnitures = furnitures\n"
   ]
  },
  {
   "cell_type": "code",
   "execution_count": 2,
   "id": "7038b1bd",
   "metadata": {},
   "outputs": [],
   "source": [
    "house1 = House({'country':'Poland','city':'Warsaw','street':'some street name'}, 2, ['table', 'bed', 'chair', 'desk', 'bath', 'stove'])\n",
    "house2 = House({'country':'Belarus','city':'Minsk','street':'some street name'}, 1, ['fridge', 'stove', 'bed', 'cupboard', 'wardrobe'])\n"
   ]
  }
 ],
 "metadata": {
  "kernelspec": {
   "display_name": "Python 3",
   "language": "python",
   "name": "python3"
  },
  "language_info": {
   "codemirror_mode": {
    "name": "ipython",
    "version": 3
   },
   "file_extension": ".py",
   "mimetype": "text/x-python",
   "name": "python",
   "nbconvert_exporter": "python",
   "pygments_lexer": "ipython3",
   "version": "3.12.1"
  }
 },
 "nbformat": 4,
 "nbformat_minor": 5
}
