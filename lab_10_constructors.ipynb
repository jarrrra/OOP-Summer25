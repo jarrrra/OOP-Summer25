{
 "cells": [
  {
   "cell_type": "markdown",
   "id": "5e2ed2bd",
   "metadata": {},
   "source": [
    "# Task1"
   ]
  },
  {
   "cell_type": "code",
   "execution_count": 6,
   "id": "d7369307",
   "metadata": {
    "vscode": {
     "languageId": "ruby"
    }
   },
   "outputs": [],
   "source": [
    "class Animal:\n",
    "    def __init__(self):\n",
    "        print(\"Constructor print\")"
   ]
  },
  {
   "cell_type": "code",
   "execution_count": 5,
   "id": "dc49ab56",
   "metadata": {},
   "outputs": [
    {
     "name": "stdout",
     "output_type": "stream",
     "text": [
      "Constructor print\n",
      "Constructor print\n",
      "Constructor print\n"
     ]
    }
   ],
   "source": [
    "animal1 = Animal()\n",
    "animal2 = Animal()\n",
    "animal3 = Animal()"
   ]
  }
 ],
 "metadata": {
  "kernelspec": {
   "display_name": "Python 3",
   "language": "python",
   "name": "python3"
  },
  "language_info": {
   "codemirror_mode": {
    "name": "ipython",
    "version": 3
   },
   "file_extension": ".py",
   "mimetype": "text/x-python",
   "name": "python",
   "nbconvert_exporter": "python",
   "pygments_lexer": "ipython3",
   "version": "3.12.1"
  }
 },
 "nbformat": 4,
 "nbformat_minor": 5
}
