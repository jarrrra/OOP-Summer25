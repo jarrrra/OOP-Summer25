{
 "cells": [
  {
   "cell_type": "markdown",
   "id": "a6525993",
   "metadata": {},
   "source": [
    "# What are functions"
   ]
  },
  {
   "cell_type": "markdown",
   "id": "20763d44",
   "metadata": {},
   "source": [
    "a function is a block which only runss when called.\n",
    "it accepts data in the form of parameters, and can return data as a result."
   ]
  },
  {
   "cell_type": "markdown",
   "id": "3e3e55d7",
   "metadata": {},
   "source": [
    "## Function without arguments"
   ]
  },
  {
   "cell_type": "code",
   "execution_count": 1,
   "id": "993d05f2",
   "metadata": {},
   "outputs": [],
   "source": [
    "def make_sound():\n",
    "    print('Bzzz')"
   ]
  },
  {
   "cell_type": "markdown",
   "id": "ad48ead7",
   "metadata": {},
   "source": [
    "## How to call the function"
   ]
  },
  {
   "cell_type": "code",
   "execution_count": 2,
   "id": "184aaa8c",
   "metadata": {},
   "outputs": [
    {
     "name": "stdout",
     "output_type": "stream",
     "text": [
      "Bzzz\n"
     ]
    }
   ],
   "source": [
    "make_sound()"
   ]
  },
  {
   "cell_type": "markdown",
   "id": "52a9f63c",
   "metadata": {},
   "source": [
    "## Function with arguments"
   ]
  },
  {
   "cell_type": "code",
   "execution_count": 4,
   "id": "c9bcc2e4",
   "metadata": {},
   "outputs": [
    {
     "name": "stdout",
     "output_type": "stream",
     "text": [
      "cow goes moo\n"
     ]
    }
   ],
   "source": [
    "def make_sound(animal, sound):\n",
    "    print(animal, 'goes', sound)\n",
    "\n",
    "make_sound('cow', 'moo')"
   ]
  },
  {
   "cell_type": "markdown",
   "id": "c0aff7fc",
   "metadata": {},
   "source": [
    "# What are methods"
   ]
  },
  {
   "cell_type": "markdown",
   "id": "83b81c99",
   "metadata": {},
   "source": [
    "methods are functions that belong to the object"
   ]
  },
  {
   "cell_type": "markdown",
   "id": "532a01d4",
   "metadata": {},
   "source": [
    "## Method withoud arguments"
   ]
  },
  {
   "cell_type": "code",
   "execution_count": 5,
   "id": "355102c3",
   "metadata": {},
   "outputs": [],
   "source": [
    "class MyAnimal:\n",
    "    def make_sound(self):\n",
    "        print('Bzzz')"
   ]
  },
  {
   "cell_type": "markdown",
   "id": "e952303d",
   "metadata": {},
   "source": [
    "## How to call it"
   ]
  },
  {
   "cell_type": "code",
   "execution_count": 6,
   "id": "3eb49578",
   "metadata": {},
   "outputs": [
    {
     "name": "stdout",
     "output_type": "stream",
     "text": [
      "Bzzz\n"
     ]
    }
   ],
   "source": [
    "my_animal = MyAnimal()\n",
    "my_animal.make_sound()"
   ]
  },
  {
   "cell_type": "markdown",
   "id": "ed79e175",
   "metadata": {},
   "source": [
    "## Method with arguments"
   ]
  },
  {
   "cell_type": "code",
   "execution_count": 7,
   "id": "9c482363",
   "metadata": {},
   "outputs": [
    {
     "name": "stdout",
     "output_type": "stream",
     "text": [
      "cat goes meow\n"
     ]
    }
   ],
   "source": [
    "class MyAnimal:\n",
    "    def make_sound(self, animal, sound):\n",
    "        print(animal, 'goes', sound)\n",
    "\n",
    "my_animal = MyAnimal()\n",
    "my_animal.make_sound('cat', 'meow')"
   ]
  }
 ],
 "metadata": {
  "kernelspec": {
   "display_name": "Python 3",
   "language": "python",
   "name": "python3"
  },
  "language_info": {
   "codemirror_mode": {
    "name": "ipython",
    "version": 3
   },
   "file_extension": ".py",
   "mimetype": "text/x-python",
   "name": "python",
   "nbconvert_exporter": "python",
   "pygments_lexer": "ipython3",
   "version": "3.12.1"
  }
 },
 "nbformat": 4,
 "nbformat_minor": 5
}
