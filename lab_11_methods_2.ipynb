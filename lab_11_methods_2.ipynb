{
 "cells": [
  {
   "cell_type": "code",
   "execution_count": 1,
   "id": "66ec6c6c",
   "metadata": {},
   "outputs": [],
   "source": [
    "class Student:\n",
    "    def hello(self):\n",
    "        print('Hello!')"
   ]
  },
  {
   "cell_type": "code",
   "execution_count": null,
   "id": "081d4236",
   "metadata": {},
   "outputs": [
    {
     "name": "stdout",
     "output_type": "stream",
     "text": [
      "Hello!\n"
     ]
    }
   ],
   "source": [
    "student = Student()\n",
    "student.hello()"
   ]
  },
  {
   "cell_type": "code",
   "execution_count": 3,
   "id": "0e0992e4",
   "metadata": {},
   "outputs": [],
   "source": [
    "class Student:\n",
    "    def __init__(self, name, index):\n",
    "        self.name = name\n",
    "        self.index = index\n",
    "        \n",
    "    def hello(self):\n",
    "        print(f\"Hello, I am {self.name} my index number is {self.index}\")"
   ]
  },
  {
   "cell_type": "code",
   "execution_count": 4,
   "id": "fe4b5005",
   "metadata": {},
   "outputs": [
    {
     "name": "stdout",
     "output_type": "stream",
     "text": [
      "Hello, I am Yaraslava Bianko my index number is 35495\n"
     ]
    }
   ],
   "source": [
    "student = Student('Yaraslava Bianko', '35495')\n",
    "student.hello()"
   ]
  }
 ],
 "metadata": {
  "kernelspec": {
   "display_name": "Python 3",
   "language": "python",
   "name": "python3"
  },
  "language_info": {
   "codemirror_mode": {
    "name": "ipython",
    "version": 3
   },
   "file_extension": ".py",
   "mimetype": "text/x-python",
   "name": "python",
   "nbconvert_exporter": "python",
   "pygments_lexer": "ipython3",
   "version": "3.12.1"
  }
 },
 "nbformat": 4,
 "nbformat_minor": 5
}
