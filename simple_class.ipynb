{
 "cells": [
  {
   "cell_type": "markdown",
   "id": "2d88fdf1",
   "metadata": {},
   "source": [
    "# Simplest class ever"
   ]
  },
  {
   "cell_type": "code",
   "execution_count": 3,
   "id": "22de2d82",
   "metadata": {},
   "outputs": [],
   "source": [
    "class EmptyClass:\n",
    "    pass"
   ]
  },
  {
   "cell_type": "markdown",
   "id": "c6429b6a",
   "metadata": {},
   "source": [
    "##### has nothing in it"
   ]
  },
  {
   "cell_type": "markdown",
   "id": "1c92e4cc",
   "metadata": {},
   "source": [
    "### What to do with the class?"
   ]
  },
  {
   "cell_type": "markdown",
   "id": "b8d54e18",
   "metadata": {},
   "source": [
    "##### create empty object"
   ]
  },
  {
   "cell_type": "code",
   "execution_count": 4,
   "id": "a05a908b",
   "metadata": {},
   "outputs": [
    {
     "data": {
      "text/plain": [
       "<__main__.EmptyClass at 0x748718132ea0>"
      ]
     },
     "execution_count": 4,
     "metadata": {},
     "output_type": "execute_result"
    }
   ],
   "source": [
    "EmptyClass()"
   ]
  },
  {
   "cell_type": "markdown",
   "id": "ceb4baf3",
   "metadata": {},
   "source": [
    "##### assign object to variable"
   ]
  },
  {
   "cell_type": "code",
   "execution_count": 5,
   "id": "2493ea50",
   "metadata": {},
   "outputs": [],
   "source": [
    "myclass = EmptyClass()"
   ]
  },
  {
   "cell_type": "markdown",
   "id": "bb8d4b1b",
   "metadata": {},
   "source": [
    "##### print object (its address)"
   ]
  },
  {
   "cell_type": "code",
   "execution_count": 6,
   "id": "ca19b113",
   "metadata": {},
   "outputs": [
    {
     "name": "stdout",
     "output_type": "stream",
     "text": [
      "<__main__.EmptyClass object at 0x7487182e5e20>\n"
     ]
    }
   ],
   "source": [
    "print(myclass)"
   ]
  },
  {
   "cell_type": "markdown",
   "id": "b7b7b1d1",
   "metadata": {},
   "source": [
    "##### create multiple objects"
   ]
  },
  {
   "cell_type": "code",
   "execution_count": 7,
   "id": "d739ce9e",
   "metadata": {},
   "outputs": [],
   "source": [
    "myclass1 = EmptyClass()\n",
    "myclass2 = EmptyClass()\n",
    "myclass3 = EmptyClass()"
   ]
  },
  {
   "cell_type": "markdown",
   "id": "3d159729",
   "metadata": {},
   "source": [
    "##### print multiple objects (their addresses)"
   ]
  },
  {
   "cell_type": "code",
   "execution_count": 8,
   "id": "4a491008",
   "metadata": {},
   "outputs": [
    {
     "name": "stdout",
     "output_type": "stream",
     "text": [
      "<__main__.EmptyClass object at 0x748718111400>\n",
      "<__main__.EmptyClass object at 0x748718112ff0>\n",
      "<__main__.EmptyClass object at 0x748718112d50>\n"
     ]
    }
   ],
   "source": [
    "print(myclass1)\n",
    "print(myclass2)\n",
    "print(myclass3)"
   ]
  },
  {
   "cell_type": "markdown",
   "id": "6eec157e",
   "metadata": {},
   "source": [
    "##### printing class type"
   ]
  },
  {
   "cell_type": "code",
   "execution_count": 10,
   "id": "05e728d8",
   "metadata": {},
   "outputs": [
    {
     "name": "stdout",
     "output_type": "stream",
     "text": [
      "<class '__main__.EmptyClass'>\n"
     ]
    }
   ],
   "source": [
    "print(type(myclass))"
   ]
  }
 ],
 "metadata": {
  "kernelspec": {
   "display_name": "Python 3",
   "language": "python",
   "name": "python3"
  },
  "language_info": {
   "codemirror_mode": {
    "name": "ipython",
    "version": 3
   },
   "file_extension": ".py",
   "mimetype": "text/x-python",
   "name": "python",
   "nbconvert_exporter": "python",
   "pygments_lexer": "ipython3",
   "version": "3.12.1"
  }
 },
 "nbformat": 4,
 "nbformat_minor": 5
}
