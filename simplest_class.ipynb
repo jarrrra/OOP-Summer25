{
  "cells": [
    {
      "cell_type": "markdown",
      "id": "74388a89-d713-497c-92a0-feec2cc6dba5",
      "metadata": {},
      "source": [
        "# Simplest class ever"
      ]
    },
    {
      "cell_type": "code",
      "execution_count": 1,
      "id": "83ea6965-debe-4389-a57f-30b7960ae0ab",
      "metadata": {
        "trusted": true
      },
      "outputs": [],
      "source": [
        "class TestClass:\n",
        "    pass"
      ]
    },
    {
      "cell_type": "markdown",
      "id": "d85125b8-5fa5-4ef9-b100-48ca89282e34",
      "metadata": {},
      "source": [
        "# Simplest object ever"
      ]
    },
    {
      "cell_type": "code",
      "execution_count": 2,
      "id": "e0cda90b-fc25-4f53-922e-e997bf97be11",
      "metadata": {
        "trusted": true
      },
      "outputs": [],
      "source": [
        "test_object = TestClass()"
      ]
    },
    {
      "cell_type": "markdown",
      "id": "181e8166-fb73-4736-9b55-c7ed0b908be4",
      "metadata": {},
      "source": [
        "# Class with one method"
      ]
    },
    {
      "cell_type": "code",
      "execution_count": 3,
      "id": "f8e652ca-f061-4e27-99cd-7799e8abc222",
      "metadata": {
        "trusted": true
      },
      "outputs": [],
      "source": [
        "class TestMethodClass:\n",
        "    def do_something(self):\n",
        "        print(\"doing smth\")"
      ]
    },
    {
      "cell_type": "markdown",
      "id": "52aa87f3-cc76-405e-8fd0-e437a1cf0a7c",
      "metadata": {},
      "source": [
        "# Using the method"
      ]
    },
    {
      "cell_type": "code",
      "execution_count": 5,
      "id": "66733b21-c38b-4b89-bf5f-8e3502d3b35c",
      "metadata": {
        "trusted": true
      },
      "outputs": [
        {
          "name": "stdout",
          "output_type": "stream",
          "text": [
            "doing smth\n"
          ]
        }
      ],
      "source": [
        "test_object_method = TestMethodClass()\n",
        "\n",
        "test_object_method.do_something()"
      ]
    },
    {
      "cell_type": "code",
      "execution_count": null,
      "id": "7b577ee0-4dcf-4aaf-a655-02171538f36c",
      "metadata": {
        "trusted": true
      },
      "outputs": [],
      "source": []
    }
  ],
  "metadata": {
    "kernelspec": {
      "display_name": "Python 3",
      "language": "python",
      "name": "python3"
    },
    "language_info": {
      "codemirror_mode": {
        "name": "python",
        "version": 3
      },
      "file_extension": ".py",
      "mimetype": "text/x-python",
      "name": "python",
      "nbconvert_exporter": "python",
      "pygments_lexer": "ipython3",
      "version": "3.12.1"
    }
  },
  "nbformat": 4,
  "nbformat_minor": 5
}
